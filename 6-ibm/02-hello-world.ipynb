{
 "cells": [
  {
   "cell_type": "markdown",
   "id": "552b1077",
   "metadata": {},
   "source": [
    "# Hello world\n",
    "\n",
    "This Hello world example creates a simple quantum program and runs it on a quantum system. Begin with following the [Install and set up](install) instructions if you haven't already, including the steps to [Set up to use IBM Quantum Platform](setup-channel#set-up-to-use-ibm-quantum-platform).\n",
    "\n",
    "We recommend that you use the [Jupyter](https://jupyter.org/install) development environment to interact with quantum computers. Be sure to install the recommended extra visualization support (`pip install qiskit[visualization]`), and note that zsh users need to put `'qiskit[visualization]'` in single quotes.\n",
    "\n",
    "To learn about quantum computing in general, check out the [Basics of quantum information course](https://learning.quantum-computing.ibm.com/course/basics-of-quantum-information) in IBM Quantum Learning.\n",
    "\n",
    "The four steps to writing a quantum program are\n",
    "\n",
    "1.  Map the problem to a quantum-native format\n",
    "\n",
    "2.  Optimize the circuits and operators\n",
    "\n",
    "3.  Execute using a quantum primitive function\n",
    "\n",
    "4.  Analyze the results\n",
    "\n",
    "## Step 1. Map the problem to a quantum-native format\n"
   ]
  },
  {
   "cell_type": "markdown",
   "id": "85fe979e",
   "metadata": {
    "raw_mimetype": "text/restructuredtext"
   },
   "source": [
    "In a quantum program, *quantum circuits* are the native format in which to represent quantum instructions, and *operators* represent the observables to be measured. When creating a circuit, you'll usually create a new `QuantumCircuit` object, then add instructions to it in sequence.\n"
   ]
  },
  {
   "cell_type": "markdown",
   "id": "21f7a26c",
   "metadata": {},
   "source": [
    "The following code cell creates a circuit that produces a *Bell state,* which is a specific two-qubit entangled state.\n",
    "\n",
    "<Admonition type=\"note\" title=\"Note: bit ordering\">\n",
    "  Qiskit uses the LSb 0 bit numbering where the $n^{th}$ digit has value $1 \\ll n$ or $2^n$. Because we usually write numbers on paper with the most significant digits to the left and the least significant digits to the right (in the Hindu-Arabic system used in most of the world), this has the consequence that the bits are labeled with indices increasing <b>from right to left</b>. This LSb 0 convention makes mathematics easier and is the most commonly used for modern digital electronics, although the opposite convention MSb 0 is also found in some domains. Converting the $i^{th}$ index between LSb 0 and MSb 0 conventions on an $n$-bit register is as simple as $i \\rightarrow n-i-1$. This differs across authors and software packages, so be aware!\n",
    "</Admonition>\n"
   ]
  },
  {
   "cell_type": "code",
   "execution_count": 1,
   "id": "930ca3b6",
   "metadata": {},
   "outputs": [
    {
     "name": "stderr",
     "output_type": "stream",
     "text": [
      "/home/mark/anaconda3/envs/Qiskit/lib/python3.10/site-packages/qiskit/visualization/circuit/matplotlib.py:266: FutureWarning: The default matplotlib drawer scheme will be changed to \"iqp\" in a following release. To silence this warning, specify the current default explicitly as style=\"clifford\", or the new default as style=\"iqp\".\n",
      "  self._style, def_font_ratio = load_style(self._style)\n"
     ]
    },
    {
     "data": {
      "image/png": "[encoded data removed]",
      "text/plain": [
       "<Figure size 287.294x200.667 with 1 Axes>"
      ]
     },
     "execution_count": 1,
     "metadata": {},
     "output_type": "execute_result"
    }
   ],
   "source": [
    "from qiskit import QuantumCircuit\n",
    "\n",
    "# Create a new circuit with two qubits (first argument) and two classical\n",
    "# bits (second argument)\n",
    "qc = QuantumCircuit(2)\n",
    "\n",
    "# Add a Hadamard gate to qubit 0\n",
    "qc.h(0)\n",
    "\n",
    "# Perform a controlled-X gate on qubit 1, controlled by qubit 0\n",
    "qc.cx(0, 1)\n",
    "\n",
    "# Return a drawing of the circuit using MatPlotLib (\"mpl\"). This is the\n",
    "# last line of the cell, so the drawing appears in the cell output.\n",
    "# Remove the \"mpl\" argument to get a text drawing.\n",
    "qc.draw(\"mpl\")"
   ]
  },
  {
   "cell_type": "markdown",
   "id": "bb105d03-3b15-4728-add4-10859ab3793c",
   "metadata": {},
   "source": [
    "`.h(0)`: This applies the Hadamard gate to the qubit at index 0 in your quantum circuit. The Hadamard gate is denoted as 'H' and is crucial in creating superposition states in quantum computing. When applied to a qubit, the Hadamard gate transforms the basis states |0⟩ and |1⟩ into equal superpositions of both, i.e., |+⟩ and |−⟩, respectively."
   ]
  },
  {
   "cell_type": "code",
   "execution_count": 2,
   "id": "647ff7f3-5833-47ba-a876-24221052f25b",
   "metadata": {},
   "outputs": [
    {
     "data": {
      "image/png": "[encoded data removed]",
      "text/plain": [
       "<Figure size 287.294x200.667 with 1 Axes>"
      ]
     },
     "execution_count": 2,
     "metadata": {},
     "output_type": "execute_result"
    }
   ],
   "source": [
    "qc.draw(\"mpl\", style=\"clifford\")"
   ]
  },
  {
   "cell_type": "code",
   "execution_count": 3,
   "id": "8c6a9500-065e-41f2-a9f7-2c2e1134ebdc",
   "metadata": {},
   "outputs": [
    {
     "data": {
      "image/png": "[encoded data removed]",
      "text/plain": [
       "<Figure size 287.294x200.667 with 1 Axes>"
      ]
     },
     "execution_count": 3,
     "metadata": {},
     "output_type": "execute_result"
    }
   ],
   "source": [
    "qc.draw(\"mpl\", style=\"iqp\")"
   ]
  },
  {
   "cell_type": "markdown",
   "id": "0c957de9",
   "metadata": {
    "raw_mimetype": "text/restructuredtext"
   },
   "source": [
    "See [`QuantumCircuit`](/api/qiskit/qiskit.circuit.QuantumCircuit#quantumcircuit) in the documentation for all available operations.\n"
   ]
  },
  {
   "cell_type": "markdown",
   "id": "f3ef4248-7938-44c1-85f1-edc997f0edcd",
   "metadata": {},
   "source": [
    "The following code cell uses the `quantum_info` package to create the two-qubit Pauli operator Z on qubit 1 and Z on qubit 2. If the state is entangled, then the correlation between qubit 1 and qubit 2 is one.\n"
   ]
  },
  {
   "cell_type": "code",
   "execution_count": 4,
   "id": "c57b261c-b757-4432-beab-61b526c98a41",
   "metadata": {},
   "outputs": [],
   "source": [
    "from qiskit.quantum_info import Pauli\n",
    "\n",
    "ZZ = Pauli('ZZ')\n",
    "ZI = Pauli('ZI')\n",
    "IZ = Pauli('IZ')\n",
    "XX = Pauli('XX')\n",
    "XI = Pauli('XI')\n",
    "IX = Pauli('IX')"
   ]
  },
  {
   "cell_type": "markdown",
   "id": "406b5686-9852-4f9a-b2da-9e12b8da1003",
   "metadata": {},
   "source": [
    "This code is a representation of various Pauli operators in quantum computing. Each of these operators is a tensor product of Pauli matrices. Here's a brief explanation of each:\n",
    "\n",
    "ZZ = Pauli('ZZ'): This represents the tensor product of two Pauli Z matrices. In quantum mechanics, the Pauli Z matrix corresponds to a quantum gate that flips the phase of the state |1⟩ but leaves the state |0⟩ unchanged. The ZZ operator affects two qubits, applying a Z operation on each.\n",
    "\n",
    "ZI = Pauli('ZI'): This is a tensor product of a Pauli Z matrix and an Identity matrix. It applies a Z operation to the first qubit and does nothing (identity operation) to the second qubit.\n",
    "\n",
    "IZ = Pauli('IZ'): This is the opposite of ZI. It applies the identity operation to the first qubit and a Z operation to the second qubit.\n",
    "\n",
    "XX = Pauli('XX'): This represents the tensor product of two Pauli X matrices. The Pauli X matrix is equivalent to a NOT gate in classical computing; it flips the state |0⟩ to |1⟩ and vice versa. The XX operator applies an X operation to both qubits.\n",
    "\n",
    "XI = Pauli('XI'): This is a tensor product of a Pauli X matrix and an Identity matrix. It applies an X operation to the first qubit and does nothing to the second qubit.\n",
    "\n",
    "IX = Pauli('IX'): This is the opposite of XI. It applies the identity operation to the first qubit and an X operation to the second qubit.\n",
    "\n",
    "These operators are fundamental in various quantum computing algorithms and processes, especially in quantum error correction, quantum entanglement, and quantum simulations. They are used to describe the interactions between qubits and to manipulate quantum states in different ways."
   ]
  },
  {
   "cell_type": "markdown",
   "id": "83bf9151-3bc9-40d2-8615-31570238b08e",
   "metadata": {},
   "source": [
    "## Step 2. Optimize the circuits and operators\n",
    "\n",
    "For this example, the circuit the operators are simple, so no optimizations are needed.\n"
   ]
  },
  {
   "cell_type": "markdown",
   "id": "9acac1d4",
   "metadata": {},
   "source": [
    "## Step 3. Execute using a quantum primitive function\n",
    "\n",
    "Quantum computers can produce random results, so you'll often want to collect a sample of the outputs by running the circuit many times. You can estimate the value of the observable using the `Estimator` class. `Estimator` is one of our two [primitives](../run/primitives-get-started); the other is `Sampler`, which can be used to get data from a quantum computer.\n"
   ]
  },
  {
   "cell_type": "code",
   "execution_count": 5,
   "id": "69a8d872",
   "metadata": {},
   "outputs": [
    {
     "data": {
      "text/plain": [
       "EstimatorResult(values=array([-0.02196486,  0.01677316, -0.00439297, -0.03474441,  1.        ,\n",
       "        1.        ]), metadata=[{'variance': 0.999517545090794, 'shots': 5008, 'readout_mitigation_num_twirled_circuits': 16, 'readout_mitigation_shots_calibration': 8192}, {'variance': 0.9997186610050118, 'shots': 5008, 'readout_mitigation_num_twirled_circuits': 16, 'readout_mitigation_shots_calibration': 8192}, {'variance': 0.9999807018036317, 'shots': 5008, 'readout_mitigation_num_twirled_circuits': 16, 'readout_mitigation_shots_calibration': 8192}, {'variance': 0.9987928260470149, 'shots': 5008, 'readout_mitigation_num_twirled_circuits': 16, 'readout_mitigation_shots_calibration': 8192}, {'variance': 0.0, 'shots': 5008, 'readout_mitigation_num_twirled_circuits': 16, 'readout_mitigation_shots_calibration': 8192}, {'variance': 0.0, 'shots': 5008, 'readout_mitigation_num_twirled_circuits': 16, 'readout_mitigation_shots_calibration': 8192}])"
      ]
     },
     "execution_count": 5,
     "metadata": {},
     "output_type": "execute_result"
    }
   ],
   "source": [
    "from qiskit_ibm_runtime import QiskitRuntimeService, Estimator, Options\n",
    "\n",
    "service = QiskitRuntimeService()\n",
    "\n",
    "# Run on the least-busy backend you have access to\n",
    "# backend = service.least_busy(simulator=False, operational=True)\n",
    "backend = service.get_backend(\"ibmq_qasm_simulator\")\n",
    "\n",
    "options = Options()\n",
    "options.resilience_level = 1\n",
    "options.optimization_level = 3\n",
    "\n",
    "# Create an Estimator object\n",
    "estimator = Estimator(backend, options=options)\n",
    "\n",
    "# Submit the circuit to Estimator\n",
    "job = estimator.run(circuits=[qc]*6, observables=[IZ, IX, ZI, XI, ZZ, XX], shots = 5000)\n",
    "\n",
    "# Once the job is complete, get the result\n",
    "job.result()"
   ]
  },
  {
   "cell_type": "markdown",
   "id": "2d4e544f-1370-4775-a613-98b1e3cda1db",
   "metadata": {},
   "source": [
    "### Explanation"
   ]
  },
  {
   "cell_type": "markdown",
   "id": "8f70c6a1-fcd1-4467-8cfb-311c2ee852fc",
   "metadata": {},
   "source": [
    "This code demonstrates how to use the Estimator module from the qiskit_ibm_runtime package, which is part of IBM's Qiskit framework for quantum computing. This module is designed to estimate expectation values of observables for given quantum circuits. "
   ]
  },
  {
   "cell_type": "markdown",
   "id": "ff34751a-1022-48c4-ac5b-934dd4100b60",
   "metadata": {},
   "source": [
    "backend = service.get_backend(\"ibmq_qasm_simulator\")"
   ]
  },
  {
   "cell_type": "raw",
   "id": "03722fa2-67ed-466d-be48-7ec3f09e5d0e",
   "metadata": {},
   "source": [
    "This line selects the IBM Quantum simulator (ibmq_qasm_simulator) as the backend. The commented-out line demonstrates how you could alternatively select the least busy quantum processor available to you."
   ]
  },
  {
   "cell_type": "markdown",
   "id": "eb3c83cd-3f99-4c69-adae-546414d1a5af",
   "metadata": {},
   "source": [
    "options = Options()  \n",
    "options.resilience_level = 1  \n",
    "options.optimization_level = 3  "
   ]
  },
  {
   "cell_type": "markdown",
   "id": "877156d3-8f46-4f66-8fb9-5e61cd9d04bf",
   "metadata": {},
   "source": [
    "Here, we're creating an Options object to configure the execution environment. You set the resilience level and optimization level, which control error mitigation and circuit optimization, respectively."
   ]
  },
  {
   "cell_type": "markdown",
   "id": "c72d5087-5180-41d8-8ba3-f82ac7adc1aa",
   "metadata": {},
   "source": [
    "estimator = Estimator(backend, options=options)  \n",
    "An Estimator object is created with the specified backend and options. This object will be used to estimate expectation values."
   ]
  },
  {
   "cell_type": "markdown",
   "id": "e6c81fba-2883-4cbc-88f5-f703497863f7",
   "metadata": {},
   "source": [
    "job = estimator.run(circuits=[qc]*6, observables=[IZ, IX, ZI, XI, ZZ, XX], shots = 5000)"
   ]
  },
  {
   "cell_type": "markdown",
   "id": "38126f13-b585-45eb-888a-6c91f22196d4",
   "metadata": {},
   "source": [
    "This line submits the job to the Estimator. The circuits parameter is a list of quantum circuits to run, in this case, six instances of the circuit qc. The observables parameter is a list of Pauli observables (IZ, IX, ZI, XI, ZZ, XX) for which you want to estimate expectation values. The shots parameter specifies the number of repetitions for each circuit measurement."
   ]
  },
  {
   "cell_type": "markdown",
   "id": "21f1a364-60a6-45a3-abfa-45b874f53c65",
   "metadata": {},
   "source": [
    "job.result()"
   ]
  },
  {
   "cell_type": "markdown",
   "id": "a54f0c9e-c619-48fe-aa73-6d2480a0f826",
   "metadata": {},
   "source": [
    "Finally, this line retrieves the result of the estimation once the job is complete.\n",
    "\n",
    "Your code is an example of how to use quantum computing resources to estimate the expectation values of certain observables in a quantum circuit. This type of computation is useful in various quantum algorithms, including those used for quantum chemistry and quantum optimization."
   ]
  },
  {
   "cell_type": "markdown",
   "id": "e3ac728c",
   "metadata": {},
   "source": [
    "<Admonition type=\"note\" title=\"Queue times\">\n",
    "  Queue times on real devices may vary. If you would like to get a faster result, replace the `backend =` line with the following instead:\n",
    "\n",
    "  ```python\n",
    "\n",
    "\n",
    "\n",
    "  # Run on a simulator\n",
    "\n",
    "\n",
    "\n",
    "  backend = service.get_backend(\"ibmq_qasm_simulator\")\n",
    "\n",
    "\n",
    "\n",
    "  ```\n",
    "</Admonition>\n"
   ]
  },
  {
   "cell_type": "markdown",
   "id": "dc5ce1eb",
   "metadata": {},
   "source": [
    "The `values` property is a list of expectation values for each of the observables we provided.\n"
   ]
  },
  {
   "cell_type": "markdown",
   "id": "0d5ea9a0",
   "metadata": {},
   "source": [
    "## Step 4. Analyze the results\n"
   ]
  },
  {
   "cell_type": "code",
   "execution_count": 6,
   "id": "57a82991-3ae9-400f-b8be-f8eb1fea79c5",
   "metadata": {},
   "outputs": [
    {
     "data": {
      "image/png": "[encoded data removed]",
      "text/plain": [
       "<Figure size 640x480 with 1 Axes>"
      ]
     },
     "metadata": {},
     "output_type": "display_data"
    }
   ],
   "source": [
    "import matplotlib.pyplot as plt\n",
    "import numpy as np\n",
    " \n",
    "# data\n",
    "data = ['IZ', 'IX', 'ZI', 'XI', 'ZZ', 'XX']\n",
    "values = job.result().values\n",
    " \n",
    "# creating error bars\n",
    "error = []\n",
    "for case in job.result().metadata:\n",
    "    error.append(2*np.sqrt(case['variance']/case['shots']))\n",
    " \n",
    "# plotting graph\n",
    "plt.plot(data, values)\n",
    "plt.errorbar(data, values, yerr = error, fmt ='o')\n",
    "plt.xlabel('Observables')\n",
    "plt.ylabel('Values')\n",
    "plt.show()"
   ]
  },
  {
   "cell_type": "markdown",
   "id": "b9a76788-3c34-4382-88f1-fc7ce9dc7234",
   "metadata": {},
   "source": [
    "Here we see that for qubits 0 and 1, the independent values of both X and Z are zero, while the correlations are one. This is a hallmark of quantum entanglement.\n"
   ]
  },
  {
   "cell_type": "markdown",
   "id": "f17e02f7-f598-4339-a0ce-c0ba72db0c1e",
   "metadata": {},
   "source": [
    "### Explanation"
   ]
  },
  {
   "cell_type": "markdown",
   "id": "2d90f31e-2560-48e8-9c16-7a42b7e1a4c2",
   "metadata": {},
   "source": [
    "data = ['IZ', 'IX', 'ZI', 'XI', 'ZZ', 'XX']  \n",
    "values = job.result().values"
   ]
  },
  {
   "cell_type": "markdown",
   "id": "7b285eb5-bcb0-4838-8f8b-1c476e0acf39",
   "metadata": {},
   "source": [
    "`data` is a list of strings representing the observables for which you've estimated expectation values.  \n",
    "`values` fetches the estimated expectation values from the job's result."
   ]
  },
  {
   "cell_type": "markdown",
   "id": "0dff7cb5-f997-4f85-b900-6c5810932dc1",
   "metadata": {},
   "source": [
    "error = []  \n",
    "for case in job.result().metadata:  \n",
    "&nbsp;&nbsp;&nbsp;&nbsp;error.append(2*np.sqrt(case['variance']/case['shots']))"
   ]
  },
  {
   "cell_type": "markdown",
   "id": "267bcf37-db22-4ca3-a676-05b357e50701",
   "metadata": {},
   "source": [
    "This loop calculates the error bars for each observable. The error is calculated as twice the standard error of the mean (2 * SEM), where SEM is the square root of the variance divided by the number of shots. This formula assumes a normal distribution of the measurement results."
   ]
  },
  {
   "cell_type": "markdown",
   "id": "4e48e145-31e0-4b29-8e2d-b5d4a4d31717",
   "metadata": {},
   "source": [
    "plt.plot(data, values)  \n",
    "plt.errorbar(data, values, yerr = error, fmt ='o')  \n",
    "plt.xlabel('Observables')  \n",
    "plt.ylabel('Values')  \n",
    "plt.show()"
   ]
  },
  {
   "cell_type": "markdown",
   "id": "d5d98874-e2de-40ae-8e65-96b873b4290d",
   "metadata": {},
   "source": [
    "plt.plot(data, values): Plots the expectation values against the observables.  \n",
    "plt.errorbar(...): Adds error bars to the plot. yerr=error specifies the vertical error bars, and fmt='o' sets the format of the plot points.  \n",
    "plt.xlabel('Observables') and plt.ylabel('Values'): Label the x-axis and y-axis.  \n",
    "plt.show(): Displays the plot."
   ]
  },
  {
   "cell_type": "markdown",
   "id": "03d6f8b4-b4f9-45ac-9a21-68e6b16ae1a7",
   "metadata": {},
   "source": [
    "This script is useful for visualizing the results of quantum computations, especially in experiments involving measurements of different quantum states or in variational quantum algorithms where you need to track the convergence of expectation values. The inclusion of error bars provides important information about the reliability and precision of the measurements."
   ]
  },
  {
   "cell_type": "code",
   "execution_count": null,
   "id": "31937971-4219-4f5c-a033-412bca5fd3c5",
   "metadata": {},
   "outputs": [],
   "source": []
  }
 ],
 "metadata": {
  "celltoolbar": "Raw Cell Format",
  "description": "Get started using Qiskit with IBM Quantum hardware in this Hello World example",
  "kernelspec": {
   "display_name": "Python 3 (ipykernel)",
   "language": "python",
   "name": "python3"
  },
  "language_info": {
   "codemirror_mode": {
    "name": "ipython",
    "version": 3
   },
   "file_extension": ".py",
   "mimetype": "text/x-python",
   "name": "python",
   "nbconvert_exporter": "python",
   "pygments_lexer": "ipython3",
   "version": "3.10.13"
  },
  "title": "Hello world"
 },
 "nbformat": 4,
 "nbformat_minor": 5
}
