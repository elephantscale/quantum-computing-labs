{
 "cells": [
  {
   "cell_type": "markdown",
   "id": "a8e2d556-7de4-4346-a956-0d9091b0006d",
   "metadata": {},
   "source": [
    "# Hello, World"
   ]
  },
  {
   "cell_type": "markdown",
   "id": "50ac905c-563e-45f0-838d-681ba77c4b2b",
   "metadata": {},
   "source": [
    "This Hello world example creates a simple quantum program and runs it on a quantum system. Begin with following the Install and set up instructions if you haven't already, including the steps to Set up to use IBM Quantum Platform.\n",
    "\n",
    "We recommend that you use the Jupyter (opens in a new tab) development environment to interact with quantum computers. Be sure to install the recommended extra visualization support (pip install qiskit[visualization]), and note that zsh users need to put 'qiskit[visualization]' in single quotes.\n",
    "\n",
    "To learn about quantum computing in general, check out the Basics of quantum information course (opens in a new tab)in IBM Quantum Learning.\n",
    "\n",
    "The four steps to writing a quantum program are\n",
    "\n",
    "1. Map the problem to a quantum-native format\n",
    "2. Optimize the circuits and operators\n",
    "3. Execute using a quantum primitive function\n",
    "4. Analyze the results\n"
   ]
  },
  {
   "cell_type": "markdown",
   "id": "e8f577ad-703e-490b-b3b8-76fd4582526f",
   "metadata": {},
   "source": [
    "# Step 1. Map the problem to a quantum-native format\n",
    "In a quantum program, quantum circuits are the native format in which to represent quantum instructions, and operators represent the observables to be measured. When creating a circuit, you'll usually create a new QuantumCircuit object, then add instructions to it in sequence.\n",
    "\n",
    "The following code cell creates a circuit that produces a Bell state, which is a specific two-qubit entangled state."
   ]
  },
  {
   "cell_type": "markdown",
   "id": "f38c34a4-8b52-4953-bcd6-0cab34cdac3f",
   "metadata": {},
   "source": [
    "Qiskit uses the LSb 0 bit numbering where the \n",
    "�\n",
    "�\n",
    "ℎ\n",
    "n \n",
    "th\n",
    "  digit has value \n",
    "1\n",
    "≪\n",
    "�\n",
    "1≪n or \n",
    "2\n",
    "�\n",
    "2 \n",
    "n\n",
    " . Because we usually write numbers on paper with the most significant digits to the left and the least significant digits to the right (in the Hindu-Arabic system used in most of the world), this has the consequence that the bits are labeled with indices increasing from right to left. This LSb 0 convention makes mathematics easier and is the most commonly used for modern digital electronics, although the opposite convention MSb 0 is also found in some domains. Converting the \n",
    "�\n",
    "�\n",
    "ℎ\n",
    "i \n",
    "th\n",
    "  index between LSb 0 and MSb 0 conventions on an \n",
    "�\n",
    "n-bit register is as simple as \n",
    "�\n",
    "→\n",
    "�\n",
    "−\n",
    "�\n",
    "−\n",
    "1\n",
    "i→n−i−1. This differs across authors and software packages, so be aware!"
   ]
  },
  {
   "cell_type": "code",
   "execution_count": 1,
   "id": "c9da6c0a-f13d-42e3-91cc-47bd830d0b78",
   "metadata": {},
   "outputs": [
    {
     "name": "stderr",
     "output_type": "stream",
     "text": [
      "/home/mark/anaconda3/envs/Qiskit/lib/python3.10/site-packages/qiskit/visualization/circuit/matplotlib.py:266: FutureWarning: The default matplotlib drawer scheme will be changed to \"iqp\" in a following release. To silence this warning, specify the current default explicitly as style=\"clifford\", or the new default as style=\"iqp\".\n",
      "  self._style, def_font_ratio = load_style(self._style)\n"
     ]
    },
    {
     "data": {
      "image/png": "[encoded data removed]",
      "text/plain": [
       "<Figure size 287.294x200.667 with 1 Axes>"
      ]
     },
     "execution_count": 1,
     "metadata": {},
     "output_type": "execute_result"
    }
   ],
   "source": [
    "from qiskit import QuantumCircuit\n",
    " \n",
    "# Create a new circuit with two qubits (first argument) and two classical\n",
    "# bits (second argument)\n",
    "qc = QuantumCircuit(2)\n",
    " \n",
    "# Add a Hadamard gate to qubit 0\n",
    "qc.h(0)\n",
    " \n",
    "# Perform a controlled-X gate on qubit 1, controlled by qubit 0\n",
    "qc.cx(0, 1)\n",
    " \n",
    "# Return a drawing of the circuit using MatPlotLib (\"mpl\"). This is the\n",
    "# last line of the cell, so the drawing appears in the cell output.\n",
    "# Remove the \"mpl\" argument to get a text drawing.\n",
    "qc.draw(\"mpl\")"
   ]
  },
  {
   "cell_type": "markdown",
   "id": "e08afb54-2da8-4701-9dd2-02e7fc22c3ee",
   "metadata": {},
   "source": [
    "The following code cell uses the quantum_info package to create the two-qubit Pauli operator Z on qubit 1 and Z on qubit 2. If the state is entangled, then the correlation between qubit 1 and qubit 2 is one."
   ]
  },
  {
   "cell_type": "code",
   "execution_count": 2,
   "id": "cc90f7da-36dc-4718-9585-d9de2d198f8d",
   "metadata": {},
   "outputs": [
    {
     "name": "stdout",
     "output_type": "stream",
     "text": [
      "ZZ\n"
     ]
    }
   ],
   "source": [
    "from qiskit.quantum_info import Pauli\n",
    " \n",
    "ZZ = Pauli('ZZ')\n",
    "ZI = Pauli('ZI')\n",
    "IZ = Pauli('IZ')\n",
    "XX = Pauli('XX')\n",
    "XI = Pauli('XI')\n",
    "IX = Pauli('IX')\n",
    "print(str(ZZ))"
   ]
  },
  {
   "cell_type": "markdown",
   "id": "474c9744-7399-476e-a879-fe59f651eaba",
   "metadata": {},
   "source": [
    "# Step 2. Optimize the circuits and operators\n",
    "For this example, the circuit and the operators are simple, so no optimizations are needed."
   ]
  },
  {
   "cell_type": "markdown",
   "id": "6e16d311-6294-4853-a645-eab70cedebb6",
   "metadata": {},
   "source": [
    "# Step 3. Execute using a quantum primitive function\n",
    "Quantum computers can produce random results, so you'll often want to collect a sample of the outputs by running the circuit many times. You can estimate the value of the observable using the Estimator class. Estimator is one of our two primitives; the other is Sampler, which can be used to get data from a quantum computer."
   ]
  },
  {
   "cell_type": "code",
   "execution_count": 3,
   "id": "04a47945-e7a4-4f94-aa43-85a83cfedad3",
   "metadata": {},
   "outputs": [
    {
     "data": {
      "text/plain": [
       "EstimatorResult(values=array([ 0.030621  , -0.010207  ,  0.01527579, -0.0415841 ,  1.00638148,\n",
       "        0.99411429]), metadata=[{'variance': 1.233898217528171, 'shots': 5008, 'readout_mitigation_num_twirled_circuits': 16, 'readout_mitigation_shots_calibration': 8192}, {'variance': 1.2347316803731117, 'shots': 5008, 'readout_mitigation_num_twirled_circuits': 16, 'readout_mitigation_shots_calibration': 8192}, {'variance': 1.1287073524460274, 'shots': 5008, 'readout_mitigation_num_twirled_circuits': 16, 'readout_mitigation_shots_calibration': 8192}, {'variance': 1.1272114648191878, 'shots': 5008, 'readout_mitigation_num_twirled_circuits': 16, 'readout_mitigation_shots_calibration': 8192}, {'variance': 0.3829610181102567, 'shots': 5008, 'readout_mitigation_num_twirled_circuits': 16, 'readout_mitigation_shots_calibration': 8192}, {'variance': 0.4075014820083845, 'shots': 5008, 'readout_mitigation_num_twirled_circuits': 16, 'readout_mitigation_shots_calibration': 8192}])"
      ]
     },
     "execution_count": 3,
     "metadata": {},
     "output_type": "execute_result"
    }
   ],
   "source": [
    "from qiskit_ibm_runtime import QiskitRuntimeService, Estimator, Options\n",
    " \n",
    "service = QiskitRuntimeService()\n",
    " \n",
    "# Run on the least-busy backend you have access to\n",
    "backend = service.least_busy(simulator=False, operational=True)\n",
    " \n",
    "options = Options()\n",
    "options.resilience_level = 1\n",
    "options.optimization_level = 3\n",
    " \n",
    "# Create an Estimator object\n",
    "estimator = Estimator(backend, options=options)\n",
    " \n",
    "# Submit the circuit to Estimator\n",
    "job = estimator.run(circuits=[qc]*6, observables=[IZ, IX, ZI, XI, ZZ, XX], shots = 5000)\n",
    " \n",
    "# Once the job is complete, get the result\n",
    "job.result()"
   ]
  },
  {
   "cell_type": "code",
   "execution_count": null,
   "id": "4e4c9bab-5866-430c-a962-1b53e1f188fa",
   "metadata": {},
   "outputs": [],
   "source": []
  }
 ],
 "metadata": {
  "kernelspec": {
   "display_name": "Python 3 (ipykernel)",
   "language": "python",
   "name": "python3"
  },
  "language_info": {
   "codemirror_mode": {
    "name": "ipython",
    "version": 3
   },
   "file_extension": ".py",
   "mimetype": "text/x-python",
   "name": "python",
   "nbconvert_exporter": "python",
   "pygments_lexer": "ipython3",
   "version": "3.10.13"
  }
 },
 "nbformat": 4,
 "nbformat_minor": 5
}
