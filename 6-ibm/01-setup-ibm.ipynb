{
 "cells": [
  {
   "cell_type": "markdown",
   "id": "b8deb7fe-a046-4990-8885-86db66a8ddd0",
   "metadata": {},
   "source": [
    "# IBM setup\n",
    "Set up Qiskit environment with IBM channel\n"
   ]
  },
  {
   "cell_type": "markdown",
   "id": "b9615095-bc9c-4fcd-81f4-70b8a4a580ac",
   "metadata": {},
   "source": [
    "IBM Cloud is the default account used if you don't specify a different channel or account name."
   ]
  },
  {
   "cell_type": "code",
   "execution_count": 1,
   "id": "ec5d25b3-88bb-4be4-add8-af8ecfbc6487",
   "metadata": {},
   "outputs": [],
   "source": [
    "import os\n",
    "from dotenv import load_dotenv, find_dotenv\n",
    "_ = load_dotenv(find_dotenv())\n",
    "ibm_quantum_token  = os.getenv('IBM_QUANTUM_TOKEN')"
   ]
  },
  {
   "cell_type": "code",
   "execution_count": 2,
   "id": "2e8789bb-dee8-4c97-8f29-8e09502e40e5",
   "metadata": {},
   "outputs": [],
   "source": [
    "from qiskit_ibm_runtime import QiskitRuntimeService\n",
    "# Save an IBM Quantum account and set it as your default account.\n",
    "QiskitRuntimeService.save_account(channel=\"ibm_quantum\", token=ibm_quantum_token, set_as_default=True, overwrite=True)"
   ]
  },
  {
   "cell_type": "markdown",
   "id": "aeef1825-b40a-47c4-b6bd-1cf66f75d9a1",
   "metadata": {},
   "source": [
    "Authenticate to the service by calling QiskitRuntimeService with your saved credentials or with your IBM Cloud API key and CRN:"
   ]
  },
  {
   "cell_type": "code",
   "execution_count": 3,
   "id": "fe445b76-cb9b-44c1-9414-aa1039651264",
   "metadata": {},
   "outputs": [],
   "source": [
    "from qiskit_ibm_runtime import QiskitRuntimeService\n",
    " \n",
    "# Use this command if you didn't save your credentials:\n",
    "# service = QiskitRuntimeService(channel=\"ibm_quantum\", token=\"<MY_IBM_QUANTUM_TOKEN>\")\n",
    " \n",
    "# Load saved credentials\n",
    "service = QiskitRuntimeService()"
   ]
  },
  {
   "cell_type": "markdown",
   "id": "49a858ca-dfd6-4a9e-816b-a03a9a2bdaad",
   "metadata": {},
   "source": [
    "Test your setup. Run a simple circuit using Sampler to ensure that your environment is set up properly:"
   ]
  },
  {
   "cell_type": "code",
   "execution_count": 5,
   "id": "65c3902e-3dcf-45d7-8227-a7d60c4761e6",
   "metadata": {},
   "outputs": [
    {
     "name": "stdout",
     "output_type": "stream",
     "text": [
      "job id: clfodjp0gmjg3mh7c420\n",
      "SamplerResult(quasi_dists=[{0: 0.487, 3: 0.513}], metadata=[{'shots': 4000, 'circuit_metadata': {}}])\n"
     ]
    }
   ],
   "source": [
    "from qiskit.test.reference_circuits import ReferenceCircuits\n",
    "from qiskit_ibm_runtime import QiskitRuntimeService, Sampler\n",
    "\n",
    "# You'll need to specify the credentials when initializing QiskitRuntimeService, if they were not previously saved.\n",
    "service = QiskitRuntimeService()\n",
    "backend = service.backend(\"ibmq_qasm_simulator\")\n",
    "job = Sampler(backend).run(ReferenceCircuits.bell())\n",
    "print(f\"job id: {job.job_id()}\")\n",
    "result = job.result()\n",
    "print(result)"
   ]
  },
  {
   "cell_type": "code",
   "execution_count": null,
   "id": "b255369e-ca4a-4e98-9af6-5c14210fad14",
   "metadata": {},
   "outputs": [],
   "source": []
  }
 ],
 "metadata": {
  "kernelspec": {
   "display_name": "Python 3 (ipykernel)",
   "language": "python",
   "name": "python3"
  },
  "language_info": {
   "codemirror_mode": {
    "name": "ipython",
    "version": 3
   },
   "file_extension": ".py",
   "mimetype": "text/x-python",
   "name": "python",
   "nbconvert_exporter": "python",
   "pygments_lexer": "ipython3",
   "version": "3.10.13"
  }
 },
 "nbformat": 4,
 "nbformat_minor": 5
}
