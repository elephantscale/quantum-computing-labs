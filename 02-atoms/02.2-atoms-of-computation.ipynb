{
 "cells": [
  {
   "cell_type": "markdown",
   "id": "75d28b1f-a84d-4c0c-b187-78c588448baf",
   "metadata": {},
   "source": [
    "# Lab 02.2\n",
    "\n",
    "## Overview\n",
    "\n",
    "* Run the first Jupyter notebooks in Qiskit\n",
    "\n",
    "### Depends On\n",
    "\n",
    "* 01-setup, 02-install-qiskit, 03-prepare\n",
    "\n",
    "### Run time\n",
    "\n",
    "15 min\n",
    "\n",
    "### STEP 1. Create your first quantum circuit"
   ]
  },
  {
   "cell_type": "code",
   "execution_count": null,
   "id": "d7df375e-e7e9-4b2e-94d7-7a18d9bc54d4",
   "metadata": {
    "tags": []
   },
   "outputs": [],
   "source": [
    "from qiskit import QuantumCircuit, assemble, Aer\n",
    "from qiskit.visualization import plot_histogram"
   ]
  },
  {
   "cell_type": "code",
   "execution_count": null,
   "id": "843e1571-23bb-49b5-87df-73f0e845edf6",
   "metadata": {
    "tags": []
   },
   "outputs": [],
   "source": [
    "qc_output = QuantumCircuit(8)"
   ]
  },
  {
   "cell_type": "markdown",
   "id": "7979eebf-cfd6-4133-9acb-1a2981d13c2b",
   "metadata": {
    "tags": []
   },
   "source": [
    "### STEP 2. Measure the circuit"
   ]
  },
  {
   "cell_type": "code",
   "execution_count": null,
   "id": "d53b6499-df05-4854-b9ef-94c57d5cd3d9",
   "metadata": {
    "tags": []
   },
   "outputs": [],
   "source": [
    "qc_output.measure_all()\n",
    "qc_output.draw(initial_state=True)"
   ]
  },
  {
   "cell_type": "markdown",
   "id": "d086fec1-286f-4fd8-9b16-fae5f1dc3a5c",
   "metadata": {},
   "source": [
    "### STEP 3. Import Qiskit simulator"
   ]
  },
  {
   "cell_type": "code",
   "execution_count": null,
   "id": "ab46b5ba-457d-4e01-90a5-cdf953b53362",
   "metadata": {
    "tags": []
   },
   "outputs": [],
   "source": [
    "sim = Aer.get_backend('aer_simulator') \n",
    "result = sim.run(qc_output).result()\n",
    "counts = result.get_counts()\n",
    "plot_histogram(counts)"
   ]
  },
  {
   "cell_type": "markdown",
   "id": "c08f88ee-ce7e-4675-bdde-b9c1572234d0",
   "metadata": {},
   "source": [
    "### STEP 4. Encoding an input"
   ]
  },
  {
   "cell_type": "code",
   "execution_count": null,
   "id": "b31aec7c-5304-4823-9033-4c3855b167fe",
   "metadata": {
    "tags": []
   },
   "outputs": [],
   "source": [
    "qc_encode = QuantumCircuit(8)\n",
    "qc_encode.x(1)\n",
    "qc_encode.x(5)\n",
    "\n",
    "qc_encode.draw()"
   ]
  },
  {
   "cell_type": "markdown",
   "id": "fc7971c5-b8fc-4c50-9bb3-0e20ceee55a0",
   "metadata": {},
   "source": [
    "### STEP 5. Simulate our circuit to see the results"
   ]
  },
  {
   "cell_type": "code",
   "execution_count": null,
   "id": "9f91a9a6-6be2-4bd4-96a7-9af1645c6eff",
   "metadata": {
    "tags": []
   },
   "outputs": [],
   "source": [
    "qc_encode.measure_all()\n",
    "qc_encode.draw()"
   ]
  },
  {
   "cell_type": "markdown",
   "id": "4930177e-5819-4a25-beab-3afc907e5fbb",
   "metadata": {},
   "source": [
    "### STEP 6. Use the .cx() method to add a CNOT to our circuit"
   ]
  },
  {
   "cell_type": "code",
   "execution_count": null,
   "id": "74eac77a-185b-4c83-ae77-fd561cf7a5e8",
   "metadata": {
    "tags": []
   },
   "outputs": [],
   "source": [
    "qc = QuantumCircuit(2,2)\n",
    "qc.x(0)\n",
    "qc.cx(0,1)\n",
    "qc.measure(0,0)\n",
    "qc.measure(1,1)\n",
    "qc.draw()"
   ]
  },
  {
   "cell_type": "markdown",
   "id": "040027c0-7575-476b-9972-48a219c43835",
   "metadata": {},
   "source": [
    "### STEP 7. Create another circuit"
   ]
  },
  {
   "cell_type": "code",
   "execution_count": null,
   "id": "765537a3-4d52-4827-97ca-48803f9419d6",
   "metadata": {
    "tags": []
   },
   "outputs": [],
   "source": [
    "qc_ha = QuantumCircuit(4,2)\n",
    "# encode inputs in qubits 0 and 1\n",
    "qc_ha.x(0) # For a=0, remove this line. For a=1, leave it.\n",
    "qc_ha.x(1) # For b=0, remove this line. For b=1, leave it.\n",
    "qc_ha.barrier()\n",
    "# use cnots to write the XOR of the inputs on qubit 2\n",
    "qc_ha.cx(0,2)\n",
    "qc_ha.cx(1,2)\n",
    "qc_ha.barrier()\n",
    "# extract outputs\n",
    "qc_ha.measure(2,0) # extract XOR value\n",
    "qc_ha.measure(3,1)\n",
    "\n",
    "qc_ha.draw()"
   ]
  },
  {
   "cell_type": "markdown",
   "id": "1965c66d-3430-40fe-b3b3-6d0b33bf980e",
   "metadata": {},
   "source": [
    "### STEP 8. With Tofolli gate"
   ]
  },
  {
   "cell_type": "code",
   "execution_count": null,
   "id": "721497fd-6395-47ae-9bef-d53c4e47793e",
   "metadata": {
    "tags": []
   },
   "outputs": [],
   "source": [
    "qc_ha = QuantumCircuit(4,2)\n",
    "# encode inputs in qubits 0 and 1\n",
    "qc_ha.x(0) # For a=0, remove the this line. For a=1, leave it.\n",
    "qc_ha.x(1) # For b=0, remove the this line. For b=1, leave it.\n",
    "qc_ha.barrier()\n",
    "# use cnots to write the XOR of the inputs on qubit 2\n",
    "qc_ha.cx(0,2)\n",
    "qc_ha.cx(1,2)\n",
    "# use ccx to write the AND of the inputs on qubit 3\n",
    "qc_ha.ccx(0,1,3)\n",
    "qc_ha.barrier()\n",
    "# extract outputs\n",
    "qc_ha.measure(2,0) # extract XOR value\n",
    "qc_ha.measure(3,1) # extract AND value\n",
    "\n",
    "qc_ha.draw()"
   ]
  },
  {
   "cell_type": "markdown",
   "id": "e3bfc5c9-0915-4d57-832f-954ef4849466",
   "metadata": {
    "tags": []
   },
   "source": [
    "### STEP 9. Now calculate 1+1"
   ]
  },
  {
   "cell_type": "code",
   "execution_count": null,
   "id": "9e82f4e4-6835-409d-9f45-102416ed818a",
   "metadata": {
    "tags": []
   },
   "outputs": [],
   "source": [
    "qobj = assemble(qc_ha)\n",
    "counts = sim.run(qobj).result().get_counts()\n",
    "plot_histogram(counts)"
   ]
  },
  {
   "cell_type": "markdown",
   "id": "3280e0a9-ad5d-4d8d-b3ea-c12174de316a",
   "metadata": {},
   "source": [
    "### STEP 10. Document the versions"
   ]
  },
  {
   "cell_type": "code",
   "execution_count": null,
   "id": "74a716c2-7456-4e41-8015-24485e57b4dc",
   "metadata": {
    "tags": []
   },
   "outputs": [],
   "source": [
    "import qiskit.tools.jupyter\n",
    "%qiskit_version_table"
   ]
  }
 ],
 "metadata": {
  "kernelspec": {
   "display_name": "Python 3 (ipykernel)",
   "language": "python",
   "name": "python3"
  },
  "language_info": {
   "codemirror_mode": {
    "name": "ipython",
    "version": 3
   },
   "file_extension": ".py",
   "mimetype": "text/x-python",
   "name": "python",
   "nbconvert_exporter": "python",
   "pygments_lexer": "ipython3",
   "version": "3.8.13"
  }
 },
 "nbformat": 4,
 "nbformat_minor": 5
}
