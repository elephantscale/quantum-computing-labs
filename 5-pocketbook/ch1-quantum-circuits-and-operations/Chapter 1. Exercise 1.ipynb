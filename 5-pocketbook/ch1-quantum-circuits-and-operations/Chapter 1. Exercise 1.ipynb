{
 "cells": [
  {
   "cell_type": "markdown",
   "id": "e36b318e-ef26-42c4-803d-804b42d77735",
   "metadata": {},
   "source": [
    "# Chapter 1. Exercise 1"
   ]
  },
  {
   "cell_type": "markdown",
   "id": "9a07e637-f8e0-41f9-b6d6-575dc0d427aa",
   "metadata": {},
   "source": [
    "* Draw a circuit illustrating x-x-gate on the LANL slides"
   ]
  },
  {
   "cell_type": "markdown",
   "id": "6173f91d-4fa7-4a27-80fc-15fadf9ee848",
   "metadata": {},
   "source": [
    "* TODO for the student"
   ]
  },
  {
   "cell_type": "code",
   "execution_count": 1,
   "id": "720d1f10-0628-4063-b1f2-cb083a8ae4eb",
   "metadata": {},
   "outputs": [],
   "source": [
    "# in Colab, do install\n",
    "# !pip install qiskit\n",
    "from qiskit import QuantumCircuit\n",
    "qc = QuantumCircuit(1, 1)"
   ]
  },
  {
   "cell_type": "code",
   "execution_count": 2,
   "id": "285bcef4-8227-43ea-a716-31aa89322bf6",
   "metadata": {},
   "outputs": [
    {
     "data": {
      "text/plain": [
       "<qiskit.circuit.instructionset.InstructionSet at 0x7fad5c3489a0>"
      ]
     },
     "execution_count": 2,
     "metadata": {},
     "output_type": "execute_result"
    }
   ],
   "source": [
    "qc.x(0)"
   ]
  },
  {
   "cell_type": "code",
   "execution_count": 3,
   "id": "8353b795-1669-47aa-9da1-b4da28b2d434",
   "metadata": {},
   "outputs": [
    {
     "data": {
      "text/plain": [
       "<qiskit.circuit.instructionset.InstructionSet at 0x7fad5c3893a0>"
      ]
     },
     "execution_count": 3,
     "metadata": {},
     "output_type": "execute_result"
    }
   ],
   "source": [
    "qc.x(0)"
   ]
  },
  {
   "cell_type": "code",
   "execution_count": 4,
   "id": "be80129a-4280-4b00-9c0f-32729b633dc0",
   "metadata": {},
   "outputs": [
    {
     "data": {
      "image/png": "[encoded data removed]",
      "text/plain": [
       "<Figure size 269.064x200.667 with 1 Axes>"
      ]
     },
     "execution_count": 4,
     "metadata": {},
     "output_type": "execute_result"
    }
   ],
   "source": [
    "qc.draw()"
   ]
  },
  {
   "cell_type": "code",
   "execution_count": 5,
   "id": "10258e2f-4caf-4a50-acc4-e4af67650e4b",
   "metadata": {},
   "outputs": [],
   "source": [
    "qc.measure_all()"
   ]
  },
  {
   "cell_type": "code",
   "execution_count": 6,
   "id": "542b409d-cd77-4138-b068-a6d022f19e4b",
   "metadata": {},
   "outputs": [
    {
     "data": {
      "image/png": "[encoded data removed]",
      "text/plain": [
       "<Figure size 496.776x284.278 with 1 Axes>"
      ]
     },
     "execution_count": 6,
     "metadata": {},
     "output_type": "execute_result"
    }
   ],
   "source": [
    "qc.draw()"
   ]
  },
  {
   "cell_type": "markdown",
   "id": "fb77b0ab-9080-4001-a1f8-c90cc0af11e0",
   "metadata": {},
   "source": [
    "* Explain why the above lines illustrate why double x-gate is a unity"
   ]
  },
  {
   "cell_type": "markdown",
   "id": "93eba325-bbd9-411f-8af0-91e40e8815d0",
   "metadata": {},
   "source": [
    "* Future steps: set initial qubit to a value other than |0> and observe the result"
   ]
  }
 ],
 "metadata": {
  "kernelspec": {
   "display_name": "Python 3 (ipykernel)",
   "language": "python",
   "name": "python3"
  },
  "language_info": {
   "codemirror_mode": {
    "name": "ipython",
    "version": 3
   },
   "file_extension": ".py",
   "mimetype": "text/x-python",
   "name": "python",
   "nbconvert_exporter": "python",
   "pygments_lexer": "ipython3",
   "version": "3.9.10"
  }
 },
 "nbformat": 4,
 "nbformat_minor": 5
}
