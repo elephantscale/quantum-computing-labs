{
 "cells": [
  {
   "cell_type": "markdown",
   "id": "bdc01f46-dc70-4b83-bc01-2083a3c1e838",
   "metadata": {},
   "source": [
    "# Running quantum circuits"
   ]
  },
  {
   "cell_type": "markdown",
   "id": "b9ff5f6b-ad36-421a-a66b-59b2ace140df",
   "metadata": {},
   "source": [
    "Qsikit supports running quantum circuits on a wide variety of simulators and devices. Most of classes and functions are in this module:"
   ]
  },
  {
   "cell_type": "markdown",
   "id": "b443861e-2152-45de-9887-1ba60ce3abef",
   "metadata": {},
   "source": [
    "`qiskit.providers.basicar`"
   ]
  },
  {
   "cell_type": "markdown",
   "id": "0b6beb98-151d-43b3-a5d3-83082f205422",
   "metadata": {},
   "source": [
    "This module contains a basic set of emulators a basic set of simulators implemented in Python, call `BasicAer` simulators."
   ]
  },
  {
   "cell_type": "markdown",
   "id": "2ef2a53a-3de7-4b2c-a3aa-51d3d5f7f273",
   "metadata": {},
   "source": [
    "The basic steps are\n",
    "1. Identify the appropriate provider (`BasicAer`, `Aer`, or a quantum devide provider)\n",
    "2. Obtain a reference to the desired backend provider.\n",
    "3. Using the backend, run the circuit on a simulator or device. This returns an object that represents a `job`.\n",
    "4. Interact with this job, such as get its status or get the results when it is completed."
   ]
  },
  {
   "cell_type": "markdown",
   "id": "702483a1-1475-44a0-8ea3-2bf5522d2ca7",
   "metadata": {},
   "source": [
    "### Using the basic `Aer` simulator"
   ]
  },
  {
   "cell_type": "code",
   "execution_count": 1,
   "id": "bbc47c94-12ee-485d-b5b5-ff47b2120de6",
   "metadata": {},
   "outputs": [
    {
     "name": "stdout",
     "output_type": "stream",
     "text": [
      "[<QasmSimulatorPy('qasm_simulator')>, <StatevectorSimulatorPy('statevector_simulator')>, <UnitarySimulatorPy('unitary_simulator')>]\n"
     ]
    }
   ],
   "source": [
    "from qiskit import BasicAer\n",
    "print (BasicAer.backends())"
   ]
  },
  {
   "cell_type": "markdown",
   "id": "6bee3ed0-0687-4c5e-9ef7-17cd1dca558f",
   "metadata": {},
   "source": [
    "### Using the `qasm` simulator"
   ]
  },
  {
   "cell_type": "code",
   "execution_count": 2,
   "id": "7f89e35f-e130-40f1-818d-b07e8a7b4939",
   "metadata": {},
   "outputs": [],
   "source": [
    "from qiskit import QuantumCircuit, BasicAer, transpile"
   ]
  },
  {
   "cell_type": "code",
   "execution_count": 3,
   "id": "ac6129ea-3bad-4f24-8b8e-7a1a2983714c",
   "metadata": {},
   "outputs": [],
   "source": [
    "qc = QuantumCircuit(2)\n",
    "qc.h(0)\n",
    "qc.cx(0, 1)\n",
    "qc.measure_all()"
   ]
  },
  {
   "cell_type": "code",
   "execution_count": 4,
   "id": "97d53aef-87bc-4b5a-9734-2c91a0b0c938",
   "metadata": {},
   "outputs": [],
   "source": [
    "backend = BasicAer.get_backend(\"qasm_simulator\")\n",
    "tqc = transpile(qc, backend)\n",
    "job = backend.run(tqc, shots = 1000)"
   ]
  },
  {
   "cell_type": "code",
   "execution_count": 5,
   "id": "fcd81f63-08a3-4a24-8a38-e19c30e7518d",
   "metadata": {},
   "outputs": [
    {
     "name": "stdout",
     "output_type": "stream",
     "text": [
      "{'00': 490, '11': 510}\n"
     ]
    }
   ],
   "source": [
    "result = job.result()\n",
    "counts = result.get_counts(tqc)\n",
    "print(counts)"
   ]
  },
  {
   "cell_type": "markdown",
   "id": "93c9e46c-a1b4-4504-aab0-895a57cb9765",
   "metadata": {},
   "source": [
    "### Exercise\n",
    "\n",
    "* Run the above a few times, obtain different results each time."
   ]
  },
  {
   "cell_type": "markdown",
   "id": "f37d4bef-051b-4fc8-ae1e-daab288b92e7",
   "metadata": {},
   "source": [
    "### Exercise 01.1\n",
    "\n",
    "* Run as above with `qasm_simulator` but use `statevector_simulator` instead."
   ]
  },
  {
   "cell_type": "markdown",
   "id": "1c126762-78f0-486c-8f24-c8b4824fd512",
   "metadata": {},
   "source": [
    "### Exercise 01.2\n",
    "\n",
    "* Run as above with `qasm_simulator` but use `Aer` package."
   ]
  },
  {
   "cell_type": "code",
   "execution_count": 6,
   "id": "5bcbc7da-9b26-427c-be24-26412023e44a",
   "metadata": {},
   "outputs": [],
   "source": [
    "# Hint\n",
    "from qiskit import Aer\n",
    "# ..."
   ]
  },
  {
   "cell_type": "markdown",
   "id": "31801c01-0234-4186-8943-7574abfd4f01",
   "metadata": {},
   "source": [
    "### Monitorin job status"
   ]
  },
  {
   "cell_type": "code",
   "execution_count": 7,
   "id": "163cf6dd-15a1-454c-b876-6b6ad95cf6ee",
   "metadata": {},
   "outputs": [
    {
     "name": "stdout",
     "output_type": "stream",
     "text": [
      "JobStatus.DONE\n"
     ]
    }
   ],
   "source": [
    "print(job.status())"
   ]
  },
  {
   "cell_type": "code",
   "execution_count": 8,
   "id": "3e3764df-d0e7-4717-a291-03ede7c372c3",
   "metadata": {},
   "outputs": [
    {
     "name": "stdout",
     "output_type": "stream",
     "text": [
      "f7f92b83-e4af-4641-b330-af273cd76c42\n"
     ]
    }
   ],
   "source": [
    "print(job.job_id())"
   ]
  },
  {
   "cell_type": "code",
   "execution_count": 9,
   "id": "7bdd5819-031f-44af-b8ce-f0d4a10a4811",
   "metadata": {},
   "outputs": [
    {
     "data": {
      "text/plain": [
       "False"
      ]
     },
     "execution_count": 9,
     "metadata": {},
     "output_type": "execute_result"
    }
   ],
   "source": [
    "job.running()"
   ]
  },
  {
   "cell_type": "code",
   "execution_count": 10,
   "id": "5b476c7b-0d66-4564-bf56-45ed481873ad",
   "metadata": {},
   "outputs": [],
   "source": [
    "result = job.result()"
   ]
  },
  {
   "cell_type": "code",
   "execution_count": 11,
   "id": "8011819b-74a9-4eb5-8514-d6b86fd6723f",
   "metadata": {},
   "outputs": [
    {
     "data": {
      "text/plain": [
       "{'00': 490, '11': 510}"
      ]
     },
     "execution_count": 11,
     "metadata": {},
     "output_type": "execute_result"
    }
   ],
   "source": [
    "result.get_counts()"
   ]
  },
  {
   "cell_type": "code",
   "execution_count": 12,
   "id": "3a6891cf-10d3-41bb-8ed9-e9b1c27e143d",
   "metadata": {},
   "outputs": [
    {
     "data": {
      "text/plain": [
       "{'backend_name': 'qasm_simulator',\n",
       " 'backend_version': '2.1.0',\n",
       " 'date': None,\n",
       " 'header': {'backend_name': 'qasm_simulator', 'backend_version': '2.1.0'},\n",
       " 'qobj_id': '075164be-db90-432b-8cd5-c222cf3e2a10',\n",
       " 'job_id': 'f7f92b83-e4af-4641-b330-af273cd76c42',\n",
       " 'status': 'COMPLETED',\n",
       " 'success': True,\n",
       " 'results': [{'shots': 1000,\n",
       "   'success': True,\n",
       "   'data': {'counts': {'0x0': 490, '0x3': 510}},\n",
       "   'meas_level': <MeasLevel.CLASSIFIED: 2>,\n",
       "   'header': {'qubit_labels': [['q', 0], ['q', 1]],\n",
       "    'n_qubits': 2,\n",
       "    'qreg_sizes': [['q', 2]],\n",
       "    'clbit_labels': [['meas', 0], ['meas', 1]],\n",
       "    'memory_slots': 2,\n",
       "    'creg_sizes': [['meas', 2]],\n",
       "    'name': 'circuit-114',\n",
       "    'global_phase': 0.0,\n",
       "    'metadata': {}},\n",
       "   'status': 'DONE',\n",
       "   'name': 'circuit-114',\n",
       "   'seed_simulator': 324457130,\n",
       "   'time_taken': 0.00128936767578125}],\n",
       " 'time_taken': 0.0012984275817871094}"
      ]
     },
     "execution_count": 12,
     "metadata": {},
     "output_type": "execute_result"
    }
   ],
   "source": [
    "result.to_dict()"
   ]
  }
 ],
 "metadata": {
  "kernelspec": {
   "display_name": "Python 3 (ipykernel)",
   "language": "python",
   "name": "python3"
  },
  "language_info": {
   "codemirror_mode": {
    "name": "ipython",
    "version": 3
   },
   "file_extension": ".py",
   "mimetype": "text/x-python",
   "name": "python",
   "nbconvert_exporter": "python",
   "pygments_lexer": "ipython3",
   "version": "3.9.10"
  }
 },
 "nbformat": 4,
 "nbformat_minor": 5
}
