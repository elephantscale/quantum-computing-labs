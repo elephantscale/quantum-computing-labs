{
 "cells": [
  {
   "cell_type": "markdown",
   "id": "87416091-f721-4fc1-bb1c-31e395db1516",
   "metadata": {},
   "source": [
    "# 03. Visualizing quantum measurements and stats\n",
    "\n",
    "## Overview\n",
    "\n",
    "* Visualization\n",
    "\n",
    "### Depends On\n",
    "\n",
    "* 0-setup\n",
    "\n",
    "### Run time\n",
    "\n",
    "45 min"
   ]
  },
  {
   "cell_type": "code",
   "execution_count": null,
   "id": "3eddbbb5-c44c-43f0-8c59-206d6f8cdacc",
   "metadata": {},
   "outputs": [],
   "source": []
  }
 ],
 "metadata": {
  "kernelspec": {
   "display_name": "Python 3 (ipykernel)",
   "language": "python",
   "name": "python3"
  },
  "language_info": {
   "codemirror_mode": {
    "name": "ipython",
    "version": 3
   },
   "file_extension": ".py",
   "mimetype": "text/x-python",
   "name": "python",
   "nbconvert_exporter": "python",
   "pygments_lexer": "ipython3",
   "version": "3.9.10"
  }
 },
 "nbformat": 4,
 "nbformat_minor": 5
}
