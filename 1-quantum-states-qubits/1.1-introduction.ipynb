{
 "cells": [
  {
   "cell_type": "markdown",
   "id": "7660054a-f020-4457-9398-50276c4bf89a",
   "metadata": {},
   "source": [
    "# 1.1 Introduction"
   ]
  },
  {
   "cell_type": "markdown",
   "id": "40e2c67b-1849-46ed-af46-1e9444bde46d",
   "metadata": {},
   "source": [
    "# Workflow Step–by–Step¶\n",
    "\n",
    "The program above can be broken down into six steps:\n",
    "\n",
    "1. Import packages\n",
    "\n",
    "2. Initialize variables\n",
    "\n",
    "3. Add gates\n",
    "\n",
    "4. Visualize the circuit\n",
    "\n",
    "5. Simulate the experiment\n",
    "\n",
    "6. Visualize the results\n",
    "\n",
    "### Step 1: Import Packages¶\n",
    "\n",
    "The basic elements needed for your program are imported as follows:"
   ]
  },
  {
   "cell_type": "code",
   "execution_count": 1,
   "id": "6ad88a0b-cfe5-4862-a128-761d38c556f5",
   "metadata": {},
   "outputs": [],
   "source": [
    "from qiskit import QuantumCircuit\n",
    "from qiskit_aer import AerSimulator\n",
    "from qiskit.visualization import plot_histogram"
   ]
  },
  {
   "cell_type": "markdown",
   "id": "b1ba25eb-55c2-434b-989b-4b30381132ae",
   "metadata": {},
   "source": [
    "In more detail, the imports are\n",
    "\n",
    "QuantumCircuit: can be thought as the instructions of the quantum system. It holds all your quantum operations.\n",
    "\n",
    "AerSimulator: is the Aer high performance circuit simulator.\n",
    "\n",
    "plot_histogram: creates histograms.\n",
    "\n",
    "### Step 2: Initialize Variables¶\n",
    "Consider the next line of code"
   ]
  },
  {
   "cell_type": "code",
   "execution_count": 2,
   "id": "c1b64614-4ac6-4072-99d0-35adbb0e25d1",
   "metadata": {},
   "outputs": [],
   "source": [
    "circuit = QuantumCircuit(2, 2)"
   ]
  },
  {
   "cell_type": "markdown",
   "id": "c3f46166-9df7-42fb-88e9-6a649fa793b0",
   "metadata": {},
   "source": [
    "Here, you are initializing with 2 qubits in the zero state; with 2 classical bits set to zero; and circuit is the quantum circuit.\n",
    "\n",
    "Syntax:\n",
    "\n",
    "QuantumCircuit(int, int)\n",
    "\n",
    "### Step 3: Add Gates¶\n",
    "\n",
    "You can add gates (operations) to manipulate the registers of your circuit.\n",
    "\n",
    "Consider the following three lines of code:"
   ]
  },
  {
   "cell_type": "code",
   "execution_count": 8,
   "id": "3e2d57a4-dcf2-4c0e-badc-a1036eb92768",
   "metadata": {},
   "outputs": [
    {
     "data": {
      "text/plain": [
       "<qiskit.circuit.instructionset.InstructionSet at 0x7f65954b45e0>"
      ]
     },
     "execution_count": 8,
     "metadata": {},
     "output_type": "execute_result"
    }
   ],
   "source": [
    "circuit.h(0)\n",
    "circuit.cx(0, 1)\n",
    "circuit.measure([0, 1], [0, 1])"
   ]
  },
  {
   "cell_type": "markdown",
   "id": "da1327ed-b865-4b3d-afd0-e865e1cf3e55",
   "metadata": {},
   "source": [
    "The gates are added to the circuit one-by-one to form the Bell state\n",
    "\n",
    "The code above applies the following gates:\n",
    "\n",
    "QuantumCircuit.h(0): A Hadamard gate \n",
    " on qubit 0, which puts it into a superposition state.\n",
    "\n",
    "QuantumCircuit.cx(0, 1): A controlled-Not operation (\n",
    ") on control qubit 0 and target qubit 1, putting the qubits in an entangled state.\n",
    "\n",
    "QuantumCircuit.measure([0,1], [0,1]): if you pass the entire quantum and classical registers to measure, the ith qubit’s measurement result will be stored in the ith classical bit.\n",
    "\n",
    "### Step 4: Visualize the Circuit¶\n",
    "\n",
    "You can use qiskit.circuit.QuantumCircuit.draw() to view the circuit that you have designed in the various forms used in many textbooks and research articles."
   ]
  },
  {
   "cell_type": "code",
   "execution_count": 9,
   "id": "b30e9a5d-a951-41d7-9479-eb8aea691264",
   "metadata": {},
   "outputs": [
    {
     "data": {
      "image/png": "[encoded data removed]",
      "text/plain": [
       "<Figure size 705.35x284.278 with 1 Axes>"
      ]
     },
     "execution_count": 9,
     "metadata": {},
     "output_type": "execute_result"
    }
   ],
   "source": [
    "circuit.draw(\"mpl\")"
   ]
  },
  {
   "cell_type": "markdown",
   "id": "53b868f4-218d-4223-a9dd-ead1ab6697cd",
   "metadata": {},
   "source": [
    "In this circuit, the qubits are ordered with qubit zero at the top and qubit one at the bottom. The circuit is read left-to-right, meaning that gates which are applied earlier in the circuit show up farther to the left.\n",
    "\n",
    "The default backend for QuantumCircuit.draw() or qiskit.visualization.circuit_drawer() is the text backend. However, depending on your local environment you may want to change these defaults to something better suited for your use case. This is done with the user config file. By default the user config file should be located in ~/.qiskit/settings.conf and is a .ini file.\n",
    "\n",
    "For example, a settings.conf file for setting a Matplotlib drawer is:"
   ]
  },
  {
   "cell_type": "markdown",
   "id": "31312bdf-7c8e-4282-a765-55082d626212",
   "metadata": {},
   "source": [
    "[default]\n",
    "\n",
    "circuit_drawer = mpl"
   ]
  },
  {
   "cell_type": "markdown",
   "id": "2db48f33-b10e-4b36-89c0-aa3af0492c05",
   "metadata": {},
   "source": [
    "You can use any of the valid circuit drawer backends as the value for this config, this includes text, mpl, latex, and latex_source.\n",
    "\n",
    "### Step 5: Simulate the Experiment¶\n",
    "\n",
    "Qiskit Aer is a high performance simulator framework for quantum circuits. It provides several backends to achieve different simulation goals.\n",
    "\n",
    "If you have issues installing Aer, you can alternatively use the Basic Aer provider by replacing Aer with BasicAer. Basic Aer is included in Qiskit Terra."
   ]
  },
  {
   "cell_type": "code",
   "execution_count": 10,
   "id": "406f3ca0-d4b1-42d9-871c-3f63ffff27e1",
   "metadata": {},
   "outputs": [],
   "source": [
    "from qiskit import QuantumCircuit, transpile\n",
    "from qiskit.providers.basicaer import QasmSimulatorPy"
   ]
  },
  {
   "cell_type": "markdown",
   "id": "a8faaebc-6c80-473f-8a6c-abf06fe6ce99",
   "metadata": {},
   "source": [
    "To simulate this circuit, you will use the AerSimulator. Each run of this circuit will yield either the bit string 00 or 11."
   ]
  },
  {
   "cell_type": "code",
   "execution_count": 11,
   "id": "5f2fc881-03ae-48d6-b2fb-18ff275a8434",
   "metadata": {},
   "outputs": [
    {
     "name": "stdout",
     "output_type": "stream",
     "text": [
      "\n",
      "Total count for 00 and 11 are: {'01': 270, '11': 235, '00': 244, '10': 251}\n"
     ]
    }
   ],
   "source": [
    "simulator = AerSimulator()\n",
    "compiled_circuit = transpile(circuit, simulator)\n",
    "job = simulator.run(compiled_circuit, shots=1000)\n",
    "result = job.result()\n",
    "counts = result.get_counts(circuit)\n",
    "print(\"\\nTotal count for 00 and 11 are:\",counts)"
   ]
  },
  {
   "cell_type": "markdown",
   "id": "94db2c09-138b-44eb-8606-a4bf7e4cfb92",
   "metadata": {},
   "source": [
    "As expected, the output bit string is 00 approximately 50 percent of the time. The number of times the circuit is run can be specified via the shots argument of the execute method. The number of shots of the simulation was set to be 1000 (the default is 1024).\n",
    "\n",
    "Once you have a result object, you can access the counts via the method get_counts(circuit). This gives you the aggregate outcomes of the experiment you ran.\n",
    "\n",
    "### Step 6: Visualize the Results¶\n",
    "\n",
    "Qiskit provides many visualizations,\n",
    "\n",
    "including the function plot_histogram, to view your results."
   ]
  },
  {
   "cell_type": "code",
   "execution_count": 12,
   "id": "564667f2-218e-48c1-bdfc-c89cef1c15ce",
   "metadata": {},
   "outputs": [
    {
     "data": {
      "image/png": "[encoded data removed]",
      "text/plain": [
       "<Figure size 700x500 with 1 Axes>"
      ]
     },
     "execution_count": 12,
     "metadata": {},
     "output_type": "execute_result"
    }
   ],
   "source": [
    "plot_histogram(counts)"
   ]
  },
  {
   "cell_type": "markdown",
   "id": "5cbed18f-7a1a-4408-b4f3-ab059d11c06e",
   "metadata": {},
   "source": [
    "The observed probabilities \n",
    " and \n",
    " are computed by taking the respective counts and dividing by the total number of shots."
   ]
  },
  {
   "cell_type": "markdown",
   "id": "87452088-11d7-4c2e-b498-d7ef5a07c63d",
   "metadata": {},
   "source": [
    "Source:\n",
    "https://qiskit.org/documentation/intro_tutorial1.html"
   ]
  },
  {
   "cell_type": "code",
   "execution_count": null,
   "id": "23943691-6657-4ae2-9617-af9167433f25",
   "metadata": {},
   "outputs": [],
   "source": []
  }
 ],
 "metadata": {
  "kernelspec": {
   "display_name": "Python 3 (ipykernel)",
   "language": "python",
   "name": "python3"
  },
  "language_info": {
   "codemirror_mode": {
    "name": "ipython",
    "version": 3
   },
   "file_extension": ".py",
   "mimetype": "text/x-python",
   "name": "python",
   "nbconvert_exporter": "python",
   "pygments_lexer": "ipython3",
   "version": "3.9.10"
  }
 },
 "nbformat": 4,
 "nbformat_minor": 5
}
