{
 "cells": [
  {
   "cell_type": "markdown",
   "id": "75d28b1f-a84d-4c0c-b187-78c588448baf",
   "metadata": {},
   "source": [
    "# Lab 03\n",
    "\n",
    "## Overview\n",
    "\n",
    "* Prepare to run Jupyter notebooks in Qiskit\n",
    "\n",
    "### Depends On\n",
    "\n",
    "* 01-setup, 02-install-qiskit\n",
    "\n",
    "### Run time\n",
    "\n",
    "5-10 min\n",
    "\n",
    "### STEP 1. Create your first quantum circuit"
   ]
  },
  {
   "cell_type": "code",
   "execution_count": null,
   "id": "843e1571-23bb-49b5-87df-73f0e845edf6",
   "metadata": {
    "tags": []
   },
   "outputs": [],
   "source": [
    "from qiskit import QuantumCircuit\n",
    "# Create quantum circuit with 3 qubits and 3 classical bits\n",
    "# (we'll explain why we need the classical bits later)\n",
    "qc = QuantumCircuit(3, 3)\n",
    "qc.draw()  # returns a drawing of the circuit"
   ]
  },
  {
   "cell_type": "code",
   "execution_count": null,
   "id": "2a18e4ab-03cf-4716-ac3c-89a940ab9c1b",
   "metadata": {},
   "outputs": [],
   "source": []
  }
 ],
 "metadata": {
  "kernelspec": {
   "display_name": "Python 3 (ipykernel)",
   "language": "python",
   "name": "python3"
  },
  "language_info": {
   "codemirror_mode": {
    "name": "ipython",
    "version": 3
   },
   "file_extension": ".py",
   "mimetype": "text/x-python",
   "name": "python",
   "nbconvert_exporter": "python",
   "pygments_lexer": "ipython3",
   "version": "3.8.13"
  }
 },
 "nbformat": 4,
 "nbformat_minor": 5
}
