{
 "cells": [
  {
   "cell_type": "markdown",
   "id": "75d28b1f-a84d-4c0c-b187-78c588448baf",
   "metadata": {},
   "source": [
    "# Lab 04\n",
    "\n",
    "## Overview\n",
    "\n",
    "* Run the first Jupyter notebooks in Qiskit\n",
    "\n",
    "### Depends On\n",
    "\n",
    "* 01-setup, 02-install-qiskit, 03-prepare\n",
    "\n",
    "### Run time\n",
    "\n",
    "5-10 min\n",
    "\n",
    "### STEP 1. Create your first quantum circuit"
   ]
  },
  {
   "cell_type": "code",
   "execution_count": null,
   "id": "843e1571-23bb-49b5-87df-73f0e845edf6",
   "metadata": {
    "tags": []
   },
   "outputs": [],
   "source": [
    "from qiskit import QuantumCircuit\n",
    "# Create quantum circuit with 3 qubits and 3 classical bits\n",
    "# (we'll explain why we need the classical bits later)\n",
    "qc = QuantumCircuit(3, 3)\n",
    "qc.draw()  # returns a drawing of the circuit"
   ]
  },
  {
   "cell_type": "markdown",
   "id": "7979eebf-cfd6-4133-9acb-1a2981d13c2b",
   "metadata": {
    "tags": []
   },
   "source": [
    "### STEP 2. Measure the circuit"
   ]
  },
  {
   "cell_type": "code",
   "execution_count": null,
   "id": "d53b6499-df05-4854-b9ef-94c57d5cd3d9",
   "metadata": {
    "tags": []
   },
   "outputs": [],
   "source": [
    "from qiskit import QuantumCircuit\n",
    "qc = QuantumCircuit(3, 3)\n",
    "# measure qubits 0, 1 & 2 to classical bits 0, 1 & 2 respectively\n",
    "qc.measure([0,1,2], [0,1,2])\n",
    "qc.draw()"
   ]
  },
  {
   "cell_type": "markdown",
   "id": "d086fec1-286f-4fd8-9b16-fae5f1dc3a5c",
   "metadata": {},
   "source": [
    "### STEP 3. Import Qiskit simulator"
   ]
  },
  {
   "cell_type": "code",
   "execution_count": null,
   "id": "ab46b5ba-457d-4e01-90a5-cdf953b53362",
   "metadata": {
    "tags": []
   },
   "outputs": [],
   "source": [
    "from qiskit.providers.aer import AerSimulator\n",
    "sim = AerSimulator()  # make new simulator object"
   ]
  },
  {
   "cell_type": "markdown",
   "id": "41f8296b-21b8-4814-816c-1eed500ebe3d",
   "metadata": {},
   "source": [
    "### STEP 4. Run the simulator"
   ]
  },
  {
   "cell_type": "code",
   "execution_count": null,
   "id": "bb60ab97-5b64-4ebb-95d8-78aeeda31118",
   "metadata": {
    "tags": []
   },
   "outputs": [],
   "source": [
    "job = sim.run(qc)      # run the experiment\n",
    "result = job.result()  # get the results\n",
    "result.get_counts()    # interpret the results as a \"counts\" dictionary"
   ]
  },
  {
   "cell_type": "markdown",
   "id": "c08f88ee-ce7e-4675-bdde-b9c1572234d0",
   "metadata": {},
   "source": [
    "### STEP 5. Encoding an input"
   ]
  },
  {
   "cell_type": "code",
   "execution_count": null,
   "id": "b31aec7c-5304-4823-9033-4c3855b167fe",
   "metadata": {
    "tags": []
   },
   "outputs": [],
   "source": [
    "# Create quantum circuit with 3 qubits and 3 classical bits:\n",
    "qc = QuantumCircuit(3, 3)\n",
    "qc.x([0,1])  # Perform X-gates on qubits 0 & 1\n",
    "qc.measure([0,1,2], [0,1,2])\n",
    "qc.draw()    # returns a drawing of the circuit"
   ]
  },
  {
   "cell_type": "markdown",
   "id": "fc7971c5-b8fc-4c50-9bb3-0e20ceee55a0",
   "metadata": {},
   "source": [
    "### STEP 5. Simulate our circuit to see the results"
   ]
  },
  {
   "cell_type": "code",
   "execution_count": null,
   "id": "9f91a9a6-6be2-4bd4-96a7-9af1645c6eff",
   "metadata": {
    "tags": []
   },
   "outputs": [],
   "source": [
    "job = sim.run(qc)      # run the experiment\n",
    "result = job.result()  # get the results\n",
    "result.get_counts()    # interpret the results as a \"counts\" dictionary"
   ]
  },
  {
   "cell_type": "markdown",
   "id": "4930177e-5819-4a25-beab-3afc907e5fbb",
   "metadata": {},
   "source": [
    "### STEP 6. Use the .cx() method to add a CNOT to our circuit"
   ]
  },
  {
   "cell_type": "code",
   "execution_count": null,
   "id": "74eac77a-185b-4c83-ae77-fd561cf7a5e8",
   "metadata": {
    "tags": []
   },
   "outputs": [],
   "source": [
    "# Create quantum circuit with 2 qubits and 2 classical bits\n",
    "qc = QuantumCircuit(2, 2)\n",
    "qc.x(0)\n",
    "qc.cx(0,1)  # CNOT controlled by qubit 0 and targeting qubit 1\n",
    "qc.measure([0,1], [0,1])\n",
    "display(qc.draw())     # display a drawing of the circuit\n",
    "\n",
    "job = sim.run(qc)      # run the experiment\n",
    "result = job.result()  # get the results\n",
    "# interpret the results as a \"counts\" dictionary\n",
    "print(\"Result: \", result.get_counts())"
   ]
  },
  {
   "cell_type": "markdown",
   "id": "040027c0-7575-476b-9972-48a219c43835",
   "metadata": {},
   "source": [
    "### STEP 7. Create another circuit"
   ]
  },
  {
   "cell_type": "code",
   "execution_count": null,
   "id": "765537a3-4d52-4827-97ca-48803f9419d6",
   "metadata": {
    "tags": []
   },
   "outputs": [],
   "source": [
    "test_qc = QuantumCircuit(4, 2)\n",
    "\n",
    "# First, our circuit should encode an input (here '11')\n",
    "test_qc.x(0)\n",
    "test_qc.x(1)\n",
    "\n",
    "# Next, it should carry out the adder circuit we created\n",
    "test_qc.cx(0,2)\n",
    "test_qc.cx(1,2)\n",
    "test_qc.ccx(0,1,3)\n",
    "\n",
    "# Finally, we will measure the bottom two qubits to extract the output\n",
    "test_qc.measure(2,0)\n",
    "test_qc.measure(3,1)\n",
    "test_qc.draw()"
   ]
  },
  {
   "cell_type": "markdown",
   "id": "1965c66d-3430-40fe-b3b3-6d0b33bf980e",
   "metadata": {},
   "source": [
    "### STEP 8. Run the experiment"
   ]
  },
  {
   "cell_type": "code",
   "execution_count": null,
   "id": "721497fd-6395-47ae-9bef-d53c4e47793e",
   "metadata": {
    "tags": []
   },
   "outputs": [],
   "source": [
    "job = sim.run(test_qc)  # run the experiment\n",
    "result = job.result()   # get the results\n",
    "result.get_counts()     # interpret the results as a “counts” dictionary"
   ]
  }
 ],
 "metadata": {
  "kernelspec": {
   "display_name": "Python 3 (ipykernel)",
   "language": "python",
   "name": "python3"
  },
  "language_info": {
   "codemirror_mode": {
    "name": "ipython",
    "version": 3
   },
   "file_extension": ".py",
   "mimetype": "text/x-python",
   "name": "python",
   "nbconvert_exporter": "python",
   "pygments_lexer": "ipython3",
   "version": "3.8.13"
  }
 },
 "nbformat": 4,
 "nbformat_minor": 5
}
